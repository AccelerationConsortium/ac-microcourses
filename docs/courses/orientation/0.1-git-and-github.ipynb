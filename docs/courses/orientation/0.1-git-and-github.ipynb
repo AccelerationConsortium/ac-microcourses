{
 "cells": [
  {
   "cell_type": "markdown",
   "metadata": {},
   "source": [
    "# Intro to Git and GitHub\n",
    "\n",
    "This microcourse is integrated with coding exercises via GitHub Classroom, so you will need [a GitHub account](https://github.com/join) (naming convention: John H. Smith → `jhsmith` or Jane M. Doe → `jane-doe`).\n",
    "\n",
    "**👉 First Step**: Complete the [🔗 GitHub starter tutorial](https://github.com/AC-Classroom/github-starter-course) to familarize yourself with the assignment structure and keep everyone on the same page."
   ]
  },
  {
   "cell_type": "code",
   "execution_count": null,
   "metadata": {},
   "outputs": [],
   "source": []
  }
 ],
 "metadata": {
  "language_info": {
   "name": "python"
  }
 },
 "nbformat": 4,
 "nbformat_minor": 2
}
