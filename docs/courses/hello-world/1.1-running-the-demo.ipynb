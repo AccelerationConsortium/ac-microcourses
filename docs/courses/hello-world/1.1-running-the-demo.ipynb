{
 "cells": [
  {
   "cell_type": "markdown",
   "metadata": {},
   "source": [
    "# 1. Running the Demo\n",
    "\n",
    "<!-- ```{note}\n",
    "**This tutorial requires physical hardware and a 2.4 GHz WPA-2 wireless network**. If you do not have the hardware, see the ⭐ \"DigiKey Order\" link at the bottom-left of the [hackaday page](https://hackaday.io/project/186289-autonomous-research-laboratories). If you do not have the required wireless network, you can use a mobile hotspot (see [recommendations](https://github.com/sparks-baird/self-driving-lab-demo/discussions/83)).\n",
    "``` -->\n",
    "\n",
    "```{include} ./hardware-note.md\n",
    "```\n",
    "\n",
    "Learn how to build a Closed-loop Spectroscopy Lab: Light-mixing Demo (CLSLab:Light) to\n",
    "perform color matching via RGB LEDs and a light sensor for under 100 USD and less than an hour\n",
    "of setup. The tutorial covers ordering parts, verifying prerequisites, software setup, sensor\n",
    "mounting, testing, and an optimization algorithm comparison tutorial. We use secure IoT-style\n",
    "communication via MQTT, MicroPython firmware on a pre-soldered Pico W microcontroller, and\n",
    "the self-driving-lab-demo Python package.\n",
    "\n",
    "![](../../_static/sdl-demo/star-protocols-graphical-abstract.png)\n",
    "\n",
    "*Setting up the CLSLab:Light \"Hello World\" demo. The workflow takes approximately one hour to complete using pre-made software components. Licensed under CC-BY license from:  [10.1016/j.xpro.2023.102329](https://doi.org/10.1016/j.xpro.2023.102329)*"
   ]
  },
  {
   "cell_type": "markdown",
   "metadata": {},
   "source": [
    "## Video Tutorial\n",
    "\n",
    "✅ Watch the [video tutorial](https://youtu.be/D54yfxRSY6s) below:\n",
    "\n",
    "<div style=\"position: relative; overflow: hidden; padding-top: 56.25%; margin-bottom: 20px;\">\n",
    "    <iframe src=\"https://www.youtube.com/embed/D54yfxRSY6s?si=FbWhKWeuOIsPxnwN\" title=\"YouTube video player\" style=\"position: absolute; top: 0; left: 0; width: 100%; height: 100%; border: 0;\" allow=\"accelerometer; autoplay; clipboard-write; encrypted-media; gyroscope; picture-in-picture; web-share\" allowfullscreen></iframe>\n",
    "</div>\n",
    "\n",
    "## Build Instructions\n",
    "\n",
    "✅ Read the build instructions manuscript at [🔗 DOI: 10.1016/j.xpro.2023.102329](https://doi.org/10.1016/j.xpro.2023.102329) or by clicking the image below:\n",
    "\n",
    "[![](./images/xpro-manuscript-header.png)](https://doi.org/10.1016/j.xpro.2023.102329)"
   ]
  }
 ],
 "metadata": {
  "language_info": {
   "name": "python"
  }
 },
 "nbformat": 4,
 "nbformat_minor": 2
}
