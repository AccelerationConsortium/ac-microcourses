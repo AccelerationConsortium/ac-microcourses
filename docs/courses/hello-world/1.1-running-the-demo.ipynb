{
 "cells": [
  {
   "cell_type": "markdown",
   "metadata": {},
   "source": [
    "# 1. Running the Demo\n",
    "\n",
    "<!-- ```{note}\n",
    "**This tutorial requires physical hardware and a 2.4 GHz WPA-2 wireless network**. If you do not have the hardware, see the ⭐ \"DigiKey Order\" link at the bottom-left of the [hackaday page](https://hackaday.io/project/186289-autonomous-research-laboratories). If you do not have the required wireless network, you can use a mobile hotspot (see [recommendations](https://github.com/sparks-baird/self-driving-lab-demo/discussions/83)).\n",
    "``` -->\n",
    "\n",
    "```{include} ./hardware-note.md\n",
    "```\n",
    "\n",
    "Learn how to build a Closed-loop Spectroscopy Lab: Light-mixing Demo (CLSLab:Light) to\n",
    "perform color matching via RGB LEDs and a light sensor for under 100 USD and less than an hour\n",
    "of setup. The tutorial covers ordering parts, verifying prerequisites, software setup, sensor\n",
    "mounting, testing, and an optimization algorithm comparison tutorial. We use secure IoT-style\n",
    "communication via MQTT, MicroPython firmware on a pre-soldered Pico W microcontroller, and\n",
    "the self-driving-lab-demo Python package.\n",
    "\n",
    "<img src=\"../../_static/sdl-demo/star-protocols-graphical-abstract.png\" width=35%>\n",
    "\n",
    "*Setting up the CLSLab:Light \"Hello World\" demo. The workflow takes approximately one hour to complete using pre-made software components. Licensed under CC-BY license from:  [10.1016/j.xpro.2023.102329](https://doi.org/10.1016/j.xpro.2023.102329)*"
   ]
  },
  {
   "cell_type": "markdown",
   "metadata": {},
   "source": [
    "## Hardware and WiFi Requirements\n",
    "\n",
    "This tutorial will provide you with the information you need to know to complete the knowledge check. Pay careful attention to the hardware and WiFi requirements in the video tutorial and build instructions below. These are necessary to complete the last assignment in this module.\n",
    "\n",
    "If you do not have the hardware, you will need to purchase [the required components](https://www.digikey.com/short/4hhrzbvn), replacing the USB power adapter with the correct style for your country (e.g., [European type C](https://www.digikey.de/en/products/detail/cui-inc/SWI5-5-E-I38/5287193)), if necessary.\n",
    "\n",
    "## Video Tutorial\n",
    "\n",
    "✅ Follow the [video tutorial](https://youtu.be/D54yfxRSY6s) below. NOTE: You also need to copy the `hivemq-com-chain.der` file to the Pico W for it to work with recent version of the `self-driving-lab-demo` package, which is detailed in the Build Instructions manuscript ([🔗 DOI: 10.1016/j.xpro.2023.102329](https://doi.org/10.1016/j.xpro.2023.102329)). We recommend you print a hardcopy of this manuscript or open it in a separate tab while working through the tutorial.\n",
    "\n",
    "<!-- <div style=\"position: relative; overflow: hidden; padding-top: 28.125%; margin-bottom: 20px; width: 50%;\">\n",
    "    <iframe src=\"https://www.youtube.com/embed/D54yfxRSY6s?si=FbWhKWeuOIsPxnwN\" title=\"YouTube video player\" style=\"position: absolute; top: 0; left: 0; width: 100%; height: 100%; border: 0;\" allow=\"accelerometer; autoplay; clipboard-write; encrypted-media; gyroscope; picture-in-picture; web-share\" allowfullscreen></iframe>\n",
    "</div> -->\n",
    "\n",
    "<iframe width=\"560\" height=\"315\" src=\"https://www.youtube.com/embed/D54yfxRSY6s?si=xB5bo7bxWry02q5Q\" title=\"YouTube video player\" frameborder=\"0\" allow=\"accelerometer; autoplay; clipboard-write; encrypted-media; gyroscope; picture-in-picture; web-share\" allowfullscreen></iframe>\n",
    "\n",
    "Figures 1 and 3 from the build instruction manuscript are copied below for convenience:\n",
    "\n",
    "![annotated materials](./images/materials-annotated.png)\n",
    "\n",
    "![threading diagram](./images/threading-diagram.jpg)\n",
    "\n",
    "⚠️ You will need access to a 2.4 GHz WPA-2 wireless network (i.e., what is required for most internet-of-things devices). If you do not already have access to one, some alternatives include setting up a home network to broadcast both 2.4 GHz and 5 GHz networks per your router's specific instructions, or perhaps easier - using a mobile hotspot in extended compatibility mode. Likewise, you may also use a SIM-enabled router. See some [recommendations](https://github.com/sparks-baird/self-driving-lab-demo/discussions/83) for more information about this topic.\n",
    "\n",
    "<!-- ### Build Instructions\n",
    "\n",
    "✅ Read and follow the build instructions manuscript at [🔗 DOI: 10.1016/j.xpro.2023.102329](https://doi.org/10.1016/j.xpro.2023.102329) or by clicking the image below:\n",
    "\n",
    "[<img src=\"./images/xpro-manuscript-header.png\" width=40%>](https://doi.org/10.1016/j.xpro.2023.102329) -->\n",
    "\n",
    "## Additional Resources\n",
    "\n",
    "For some additional context about the motivation of these demos, read *What is a minimal working example for a self-driving laboratory?* at [🔗 DOI: 10.1016/j.matt.2022.11.007](https://doi.org/10.1016/j.matt.2022.11.007) or by clicking the image below:\n",
    "\n",
    "[<img src=\"./images/matter-manuscript-header.png\" width=40%>](https://doi.org/10.1016/j.matt.2022.11.007)\n",
    "\n",
    "<sup>\n",
    "\n",
    "Note: A static PDF copy is also [available at `ac-microcourses`](https://github.com/AccelerationConsortium/ac-microcourses/raw/main/docs/courses/hello-world/pdf/baird_what_2022.pdf)\n",
    "\n",
    "</sup>"
   ]
  },
  {
   "cell_type": "markdown",
   "metadata": {},
   "source": [
    "##\n",
    "\n",
    "Once you've finished following the build instructions manuscript, you are done with this tutorial 🎉. Return to the website to do a knowledge check."
   ]
  }
 ],
 "metadata": {
  "language_info": {
   "name": "python"
  }
 },
 "nbformat": 4,
 "nbformat_minor": 2
}
