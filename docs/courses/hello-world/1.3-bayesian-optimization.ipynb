{
 "cells": [
  {
   "cell_type": "markdown",
   "metadata": {},
   "source": [
    "# 3. Bayesian Optimization\n",
    "\n",
    "Learn how to write a Bayesian optimization script to intelligently adjust RGB power levels to match a target color and visualize optimization results.\n",
    "\n",
    "<img src=\"../../_static/sdl-demo/grid-vs-random-vs-bayesian-ax-logo.png\" width=35%>\n",
    "\n",
    "*An optimization efficiency comparison between grid search, random search, and Bayesian optimization using Meta's Ax Platform, where Bayesian optimization is the most efficient at matching the target color.*\n",
    "\n",
    "## A Gentle Introduction to Bayesian Optimization\n",
    "\n",
    "Choosing the right optimization method depends on the specific needs and constraints of a project.\n",
    "\n",
    "✅ Watch the [Gentle Introduction to Bayesian Optimization](https://youtu.be/IVaWl2tL06c?si=d1uADy-Xxcj4JD_G) below. This one is very important to understand the basics of Bayesian optimization and how it compares to traditional design of experiments.\n",
    "\n",
    "<div style=\"position: relative; overflow: hidden; padding-top: 50%; margin-bottom: 100px; width: 75%;\">\n",
    "    <iframe src=\"https://www.youtube.com/embed/IVaWl2tL06c?si=iSmEFYLJhXIXJam6\" title=\"YouTube video player\" style=\"position: absolute; top: 0; left: 0; width: 100%; height: 100%; border: 0;\" allow=\"accelerometer; autoplay; clipboard-write; encrypted-media; gyroscope; picture-in-picture; web-share; fullscreen\" allowfullscreen=\"allowfullscreen\" mozallowfullscreen=\"mozallowfullscreen\" msallowfullscreen=\"msallowfullscreen\"  oallowfullscreen=\"oallowfullscreen\" webkitallowfullscreen=\"webkitallowfullscreen\"></iframe>\n",
    "</div>\n",
    "\n",
    "✅ Watch [Bayes rule by 3Blue1Brown](https://youtu.be/HZGCoVF3YvM?si=Gfoi-0sRvxqsTW2u). This will help you understand the most basic statistical concept that powers Bayesian optimization algorithms.\n",
    "\n",
    "<div style=\"position: relative; overflow: hidden; padding-top: 50%; margin-bottom: 100px; width: 75%;\">\n",
    "    <iframe src=\"https://www.youtube.com/embed/HZGCoVF3YvM?si=Gfoi-0sRvxqsTW2u\" title=\"YouTube video player\" style=\"position: absolute; top: 0; left: 0; width: 100%; height: 100%; border: 0;\" allow=\"accelerometer; autoplay; clipboard-write; encrypted-media; gyroscope; picture-in-picture; web-share; fullscreen\" allowfullscreen=\"allowfullscreen\" mozallowfullscreen=\"mozallowfullscreen\" msallowfullscreen=\"msallowfullscreen\"  oallowfullscreen=\"oallowfullscreen\" webkitallowfullscreen=\"webkitallowfullscreen\"></iframe>\n",
    "</div>\n",
    "\n",
    "<!-- ✅ Review the scikit-learn documentation for [`ParameterGrid`](https://scikit-learn.org/stable/modules/generated/sklearn.model_selection.ParameterGrid.html) -->\n",
    "\n",
    "✅ Review the scipy documentation for [`Sobol`](https://docs.scipy.org/doc/scipy/reference/generated/scipy.stats.qmc.Sobol.html)\n",
    "\n",
    "✅ Spend 20 minutes exploring the [Ax Platform Docs](https://ax.dev/)\n",
    "\n",
    "✅ Review Ax's [Service API Tutorial](https://ax.dev/tutorials/gpei_hartmann_service.html)\n",
    "\n",
    "## Additional Resources\n",
    "\n",
    "For the mathematically inclined or those who would like to understand the theory behind Bayesian optimization, you are encouraged to work through [A Visual Exploration of Gaussian Processes](https://distill.pub/2019/visual-exploration-gaussian-processes/), which will give you a better sense of what Gaussian processes are and how Bayesian inference is used to perform Gaussian process regression. Note that Gaussian processes are the most widely used surrogate model in Bayesian optimization applications. Next, you can work through [Exploring Bayesian Optimization](https://distill.pub/2020/bayesian-optimization/). These two resources will help you to develop intuition about Bayesian optimization by understanding the underlying theory.\n",
    "\n",
    "You may also be interested in the following resources:\n",
    "\n",
    "- [Video: How are materials discovered?](https://youtu.be/RRNcqJSJ6vc?si=_sdNLUZFbW-3APrJ)\n",
    "- A general machine learning tutorial on [Grid vs. random vs. Bayesian optimization](https://towardsdatascience.com/grid-search-vs-random-search-vs-bayesian-optimization-2e68f57c3c46) (requires a Medium account)\n",
    "- [Tuning the hyper-parameters of an estimator](https://scikit-learn.org/stable/modules/grid_search.html)\n",
    "- A variety of other optimization algorithms documented in [the Olympus benchmarking package](https://aspuru-guzik-group.github.io/olympus/classes/planners/index.html)\n",
    "- Additional algorithms documented in [a `self-driving-lab-demo` discussion](https://github.com/sparks-baird/self-driving-lab-demo/discussions/57)\n",
    "\n",
    "## \n",
    "\n",
    "That's it! You've completed the tutorial 🎉. Next, let's do a knowledge check."
   ]
  }
 ],
 "metadata": {
  "language_info": {
   "name": "python"
  }
 },
 "nbformat": 4,
 "nbformat_minor": 2
}
