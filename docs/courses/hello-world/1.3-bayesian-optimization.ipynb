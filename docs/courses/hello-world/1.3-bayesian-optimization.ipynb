{
 "cells": [
  {
   "cell_type": "markdown",
   "metadata": {},
   "source": [
    "# 3. Bayesian Optimization\n",
    "\n",
    "Learn how to write a Bayesian optimization script to intelligently adjust RGB power levels to match a target color and visualize optimization results.\n",
    "\n",
    "## A Gentle Introduction to Bayesian Optimization\n",
    "\n",
    "Choosing the right optimization method depends on the specific needs and constraints of a project.\n",
    "\n",
    "✅ Learn more about these choices by watching the [Gentle Introduction to Bayesian Optimization](https://youtu.be/IVaWl2tL06c?si=d1uADy-Xxcj4JD_G) video below:\n",
    "\n",
    "<div style=\"position: relative; overflow: hidden; padding-top: 50%; margin-bottom: 100px; width: 75%;\">\n",
    "    <iframe src=\"https://www.youtube.com/embed/IVaWl2tL06c?si=iSmEFYLJhXIXJam6\" title=\"YouTube video player\" style=\"position: absolute; top: 0; left: 0; width: 100%; height: 100%; border: 0;\" allow=\"accelerometer; autoplay; clipboard-write; encrypted-media; gyroscope; picture-in-picture; web-share; fullscreen\" allowfullscreen=\"allowfullscreen\" mozallowfullscreen=\"mozallowfullscreen\" msallowfullscreen=\"msallowfullscreen\"  oallowfullscreen=\"oallowfullscreen\" webkitallowfullscreen=\"webkitallowfullscreen\"></iframe>\n",
    "</div>\n",
    "\n",
    "✅ Watch [Bayes rule by 3Blue1Brown](https://youtu.be/HZGCoVF3YvM?si=Gfoi-0sRvxqsTW2u):\n",
    "\n",
    "<div style=\"position: relative; overflow: hidden; padding-top: 50%; margin-bottom: 100px; width: 75%;\">\n",
    "    <iframe src=\"https://www.youtube.com/embed/HZGCoVF3YvM?si=Gfoi-0sRvxqsTW2u\" title=\"YouTube video player\" style=\"position: absolute; top: 0; left: 0; width: 100%; height: 100%; border: 0;\" allow=\"accelerometer; autoplay; clipboard-write; encrypted-media; gyroscope; picture-in-picture; web-share; fullscreen\" allowfullscreen=\"allowfullscreen\" mozallowfullscreen=\"mozallowfullscreen\" msallowfullscreen=\"msallowfullscreen\"  oallowfullscreen=\"oallowfullscreen\" webkitallowfullscreen=\"webkitallowfullscreen\"></iframe>\n",
    "</div>\n",
    "\n",
    "✅ Review the scikit-learn documentation for [`ParameterGrid`](https://scikit-learn.org/stable/modules/generated/sklearn.model_selection.ParameterGrid.html)\n",
    "\n",
    "✅ Review the scipy documentation for [`Sobol`](https://docs.scipy.org/doc/scipy/reference/generated/scipy.stats.qmc.Sobol.html)\n",
    "\n",
    "✅ Spend 20 minutes exploring the [Ax Platform Docs](https://ax.dev/)\n",
    "\n",
    "✅ Review Ax's [Service API Tutorial](https://ax.dev/tutorials/gpei_hartmann_service.html)\n",
    "\n",
    "## Additional Resources\n",
    "- [Video: How are materials discovered?](https://youtu.be/RRNcqJSJ6vc?si=_sdNLUZFbW-3APrJ)\n",
    "- [Grid vs. random vs. Bayesian optimization (general machine learning tutorial)](https://towardsdatascience.com/grid-search-vs-random-search-vs-bayesian-optimization-2e68f57c3c46)\n",
    "- [Tuning the hyper-parameters of an estimator](ttps://scikit-learn.org/stable/modules/grid_search.html)\n",
    "\n",
    "## \n",
    "\n",
    "That's it! You've completed the tutorial 🎉. Next, let's do a knowledge check."
   ]
  },
  {
   "cell_type": "markdown",
   "metadata": {},
   "source": []
  }
 ],
 "metadata": {
  "language_info": {
   "name": "python"
  }
 },
 "nbformat": 4,
 "nbformat_minor": 2
}
