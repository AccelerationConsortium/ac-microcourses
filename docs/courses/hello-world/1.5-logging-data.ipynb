{
 "cells": [
  {
   "cell_type": "markdown",
   "metadata": {},
   "source": [
    "# 5. Logging Data\n",
    "\n",
    "https://github.com/sparks-baird/self-driving-lab-demo/blob/24146ae3078972e8ae2ca74f0428794906a13797/src/public_mqtt_sdl_demo/scripts/data_logging_basic.py"
   ]
  },
  {
   "cell_type": "code",
   "execution_count": null,
   "metadata": {},
   "outputs": [],
   "source": [
    "from secrets import (\n",
    "    DEVICE_NICKNAME,\n",
    "    MONGODB_API_KEY,\n",
    "    MONGODB_COLLECTION_NAME,\n",
    "    PASSWORD,\n",
    "    SSID,\n",
    ")\n",
    "\n",
    "from data_logging import log_to_mongodb\n",
    "from netman import connectWiFi\n",
    "\n",
    "connectWiFi(SSID, PASSWORD, country=\"US\")\n",
    "\n",
    "mongodb_app_name = \"data-sarkl\"\n",
    "mongodb_url = f\"https://data.mongodb-api.com/app/{mongodb_app_name}/endpoint/data/v1/action/insertOne\"  # noqa: E501\n",
    "mongodb_cluster_name = \"sparks-materials-informatics\"\n",
    "mongodb_database_name = \"clslab-light-mixing\"\n",
    "\n",
    "log_to_mongodb(\n",
    "    {\"device_nickname\": DEVICE_NICKNAME},\n",
    "    api_key=MONGODB_API_KEY,\n",
    "    collection_name=MONGODB_COLLECTION_NAME,\n",
    "    url=mongodb_url,\n",
    "    cluster_name=mongodb_cluster_name,\n",
    "    database_name=mongodb_database_name,\n",
    "    verbose=True,\n",
    "    retries=2,\n",
    ")\n"
   ]
  }
 ],
 "metadata": {
  "language_info": {
   "name": "python"
  }
 },
 "nbformat": 4,
 "nbformat_minor": 2
}
