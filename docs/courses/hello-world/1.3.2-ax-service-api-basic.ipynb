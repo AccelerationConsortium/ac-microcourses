{
 "cells": [
  {
   "cell_type": "markdown",
   "metadata": {},
   "source": [
    "# 3.1 Ax Platform Basic Usage\n",
    "\n",
    "[![Open In Colab](https://colab.research.google.com/assets/colab-badge.svg)](https://colab.research.google.com/github/AccelerationConsortium/ac-microcourses/blob/main/docs/courses/hello-world/1.3.2-ax-service-api-basic.ipynb)\n",
    "\n",
    "This notebook uses the Ax Platform's Service API to perform Bayesian optimization. Here, we use an analytic function called [the Branin function](https://chat.openai.com/share/63e1255e-6d7d-4dab-81a3-7913509f2425), which is often used for optimization benchmarking. It takes two parameters as inputs, and returns one value as the output. The task here is to optimize the parameter inputs to minimize the function value."
   ]
  },
  {
   "cell_type": "code",
   "execution_count": null,
   "metadata": {},
   "outputs": [],
   "source": [
    "# only install if we are running in colab\n",
    "import sys\n",
    "IN_COLAB = 'google.colab' in sys.modules\n",
    "if IN_COLAB:\n",
    "    %pip install ax-platform"
   ]
  },
  {
   "cell_type": "code",
   "execution_count": null,
   "metadata": {},
   "outputs": [],
   "source": [
    "import math\n",
    "from ax.service.ax_client import AxClient, ObjectiveProperties\n",
    "\n",
    "obj1_name = \"branin\"\n",
    "\n",
    "def branin(x1, x2):\n",
    "    y = float(\n",
    "        (x2 - 5.1 / (4 * math.pi**2) * x1**2 + 5.0 / math.pi * x1 - 6.0) ** 2\n",
    "        + 10 * (1 - 1.0 / (8 * math.pi)) * math.cos(x1)\n",
    "        + 10\n",
    "    )\n",
    "\n",
    "    return y\n",
    "\n",
    "ax_client = AxClient()\n",
    "ax_client.create_experiment(\n",
    "    parameters=[\n",
    "        {\"name\": \"x1\", \"type\": \"range\", \"bounds\": [-5.0, 10.0]},\n",
    "        {\"name\": \"x2\", \"type\": \"range\", \"bounds\": [0.0, 15.0]},\n",
    "    ],\n",
    "    objectives={\n",
    "        obj1_name: ObjectiveProperties(minimize=True),\n",
    "    },\n",
    ")\n",
    "\n",
    "for _ in range(10):\n",
    "    parameters, trial_index = ax_client.get_next_trial()\n",
    "    results = branin(\n",
    "        parameters[\"x1\"],\n",
    "        parameters[\"x2\"],\n",
    "    )\n",
    "    ax_client.complete_trial(trial_index=trial_index, raw_data=results)\n",
    "\n",
    "best_parameters, metrics = ax_client.get_best_parameters()"
   ]
  },
  {
   "cell_type": "markdown",
   "metadata": {},
   "source": [
    "After running this, return to the [Bayesian optimization tutorial notebook](./1.3-bayesian-optimization.ipynb)."
   ]
  }
 ],
 "metadata": {
  "language_info": {
   "name": "python"
  }
 },
 "nbformat": 4,
 "nbformat_minor": 2
}
