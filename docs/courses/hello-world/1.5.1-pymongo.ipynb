{
 "cells": [
  {
   "cell_type": "markdown",
   "metadata": {
    "id": "2H3x6w3oI2aj"
   },
   "source": [
    "# Reading Data from MongoDB\n",
    "\n",
    "[![Open In Colab](https://colab.research.google.com/assets/colab-badge.svg)](https://colab.research.google.com/github/AccelerationConsortium/ac-microcourses/blob/main/docs/courses/hello-world/1.5.1-pymongo.ipynb)\n",
    "\n",
    "Within [the data logging notebook](./1.5-data-logging.ipynb), you learned how to write data to a MongoDB database directly from a microcontroller using MongoDB's data API. In this notebook, you will learn how to read data from a MongoDB database using the official MongoDB Python driver: [PyMongo](https://pymongo.readthedocs.io/en/stable/). Note that you will read data from a separate database collection than the one you wrote to in the previous notebook. While it would be more instructive to read the same data that you wrote, to avoid potential misuse, users only have write access to the database collection from the previous notebook. Likewise, in this notebook, users only have read access to a separate database collection with a fixed set of data."
   ]
  },
  {
   "cell_type": "code",
   "execution_count": 1,
   "metadata": {
    "colab": {
     "base_uri": "https://localhost:8080/"
    },
    "id": "OpR8kQsgI2an",
    "outputId": "1cb50b06-7b16-43ff-f11e-da1f02c6e7cc"
   },
   "outputs": [],
   "source": [
    "# only install if we are running in colab\n",
    "import sys\n",
    "IN_COLAB = 'google.colab' in sys.modules\n",
    "if IN_COLAB:\n",
    "    %pip install pymongo pandas"
   ]
  },
  {
   "cell_type": "markdown",
   "metadata": {
    "id": "hxRerlzpI2ao"
   },
   "source": [
    "First, instantiate the PyMongo client and connect to the database."
   ]
  },
  {
   "cell_type": "code",
   "execution_count": 3,
   "metadata": {
    "colab": {
     "base_uri": "https://localhost:8080/"
    },
    "id": "VBCIP8BsI2ao",
    "outputId": "3dc55d90-e71a-4a58-a7b7-83a8ad3cc513"
   },
   "outputs": [
    {
     "name": "stdout",
     "output_type": "stream",
     "text": [
      "Pinged your deployment. You successfully connected to MongoDB!\n"
     ]
    }
   ],
   "source": [
    "from pymongo.mongo_client import MongoClient\n",
    "\n",
    "# normally, the MongoDB credentials would be kept private\n",
    "# but for the purposes of this tutorial we will share them\n",
    "MONGODB_PASSWORD = \"HGzZNsQ3vBLKrXXF\"\n",
    "\n",
    "# Connection string obtained via MongoDB Atlas \"Connect\" button\n",
    "blinded_connection_string = \"mongodb+srv://test-user-find-only:<password>@test-cluster.c5jgpni.mongodb.net/?retryWrites=true&w=majority\"\n",
    "\n",
    "# Replace <password> with the MongoDB password (where again, the connection\n",
    "# string and password would normally be kept private)\n",
    "connection_string = blinded_connection_string.replace(\"<password>\", MONGODB_PASSWORD)\n",
    "\n",
    "# Create a new client and connect to the server\n",
    "client = MongoClient(connection_string)\n",
    "\n",
    "# Send a ping to confirm a successful connection\n",
    "try:\n",
    "    client.admin.command('ping')\n",
    "    print(\"Pinged your deployment. You successfully connected to MongoDB!\")\n",
    "except Exception as e:\n",
    "    print(e)"
   ]
  },
  {
   "cell_type": "markdown",
   "metadata": {
    "id": "TSIXtFqgI2ap"
   },
   "source": [
    "Next, read all entries from the collection. In this case, there are only three pre-existing entries in the collection (uploaded by the course developers). This will not include your course ID for reasons listed above."
   ]
  },
  {
   "cell_type": "code",
   "execution_count": 4,
   "metadata": {
    "colab": {
     "base_uri": "https://localhost:8080/"
    },
    "id": "NgILiWP5I2aq",
    "outputId": "d5c63159-ea8c-426f-8c11-b31fdb2b9af6"
   },
   "outputs": [
    {
     "name": "stdout",
     "output_type": "stream",
     "text": [
      "[{'_id': ObjectId('65962c0458f0b76b37484b82'), 'course_id': 'happy-panda'}, {'_id': ObjectId('65962c3758f0b76b37484b83'), 'course_id': 'amused-zebra'}, {'_id': ObjectId('65962c4958f0b76b37484b84'), 'course_id': 'sorrowful-hippo'}]\n"
     ]
    }
   ],
   "source": [
    "database_name = \"test-db\"\n",
    "collection_name = \"read-from-me\"\n",
    "\n",
    "db = client[database_name]\n",
    "collection = db[collection_name]\n",
    "\n",
    "# get all results\n",
    "results = list(collection.find({}))\n",
    "\n",
    "print(results)"
   ]
  },
  {
   "cell_type": "markdown",
   "metadata": {
    "id": "EpGcSn16I2aq"
   },
   "source": [
    "Create a pandas DataFrame from the collection entries."
   ]
  },
  {
   "cell_type": "code",
   "execution_count": 5,
   "metadata": {
    "colab": {
     "base_uri": "https://localhost:8080/",
     "height": 174
    },
    "id": "M4SVOd1wI2aq",
    "outputId": "e3d3d2ff-4f35-44a7-f5f8-a468ec255d46"
   },
   "outputs": [
    {
     "data": {
      "text/html": [
       "<div>\n",
       "<style scoped>\n",
       "    .dataframe tbody tr th:only-of-type {\n",
       "        vertical-align: middle;\n",
       "    }\n",
       "\n",
       "    .dataframe tbody tr th {\n",
       "        vertical-align: top;\n",
       "    }\n",
       "\n",
       "    .dataframe thead th {\n",
       "        text-align: right;\n",
       "    }\n",
       "</style>\n",
       "<table border=\"1\" class=\"dataframe\">\n",
       "  <thead>\n",
       "    <tr style=\"text-align: right;\">\n",
       "      <th></th>\n",
       "      <th>course_id</th>\n",
       "    </tr>\n",
       "    <tr>\n",
       "      <th>_id</th>\n",
       "      <th></th>\n",
       "    </tr>\n",
       "  </thead>\n",
       "  <tbody>\n",
       "    <tr>\n",
       "      <th>65962c0458f0b76b37484b82</th>\n",
       "      <td>happy-panda</td>\n",
       "    </tr>\n",
       "    <tr>\n",
       "      <th>65962c3758f0b76b37484b83</th>\n",
       "      <td>amused-zebra</td>\n",
       "    </tr>\n",
       "    <tr>\n",
       "      <th>65962c4958f0b76b37484b84</th>\n",
       "      <td>sorrowful-hippo</td>\n",
       "    </tr>\n",
       "  </tbody>\n",
       "</table>\n",
       "</div>"
      ],
      "text/plain": [
       "                                course_id\n",
       "_id                                      \n",
       "65962c0458f0b76b37484b82      happy-panda\n",
       "65962c3758f0b76b37484b83     amused-zebra\n",
       "65962c4958f0b76b37484b84  sorrowful-hippo"
      ]
     },
     "execution_count": 5,
     "metadata": {},
     "output_type": "execute_result"
    }
   ],
   "source": [
    "# NOTE: your course ID will not appear in the results\n",
    "import pandas as pd\n",
    "df = pd.DataFrame(results).set_index(\"_id\")\n",
    "df"
   ]
  },
  {
   "cell_type": "markdown",
   "metadata": {
    "id": "s3Oq4kO8I2ar"
   },
   "source": [
    "Finally, export the DataFrame to a CSV file and print the CSV file contents."
   ]
  },
  {
   "cell_type": "code",
   "execution_count": 6,
   "metadata": {
    "colab": {
     "base_uri": "https://localhost:8080/"
    },
    "id": "jeRQ3aTnI2ar",
    "outputId": "2a75aa70-ceca-42e1-8211-9002666769fc"
   },
   "outputs": [
    {
     "name": "stdout",
     "output_type": "stream",
     "text": [
      "_id,course_id\n",
      "65962c0458f0b76b37484b82,happy-panda\n",
      "65962c3758f0b76b37484b83,amused-zebra\n",
      "65962c4958f0b76b37484b84,sorrowful-hippo\n",
      "\n"
     ]
    }
   ],
   "source": [
    "df.to_csv(\"results.csv\")\n",
    "\n",
    "with open('results.csv', 'r') as file:\n",
    "    print(file.read())"
   ]
  },
  {
   "cell_type": "markdown",
   "metadata": {
    "id": "IYuHclpWI2as"
   },
   "source": [
    "Typically, you'll want to reuse your client where possible. When you're finished, it's best to close the connection to MongoDB to avoid having too many active connections."
   ]
  },
  {
   "cell_type": "code",
   "execution_count": 7,
   "metadata": {
    "id": "DKXvLXE0I2as"
   },
   "outputs": [],
   "source": [
    "client.close()"
   ]
  },
  {
   "cell_type": "markdown",
   "metadata": {
    "id": "3xkbKFrPI2ar"
   },
   "source": [
    "## Aside: Uploading data using PyMongo\n",
    "\n",
    "In this notebook, we described how to read data via the PyMongo driver. In the [the data logging notebook](./1.5-data-logging.ipynb), we uploaded data from a microcontroller using an AWS Lambda function. However, when PyMongo is available, it is more straightforward and efficient to use it for both inserting and retrieving. Here, we'll redefine the client and pass the credentials for the user with \"insert only\" permissions for the separate collection named `write-to-me`."
   ]
  },
  {
   "cell_type": "code",
   "execution_count": 8,
   "metadata": {
    "colab": {
     "base_uri": "https://localhost:8080/"
    },
    "id": "SsEX7PxvKWoe",
    "outputId": "2ca30112-8a50-492b-d40f-96ec43b16f89"
   },
   "outputs": [
    {
     "name": "stdout",
     "output_type": "stream",
     "text": [
      "Pinged your deployment. You successfully connected to MongoDB!\n"
     ]
    }
   ],
   "source": [
    "from pymongo.mongo_client import MongoClient\n",
    "\n",
    "# normally, the MongoDB credentials would be kept private\n",
    "# but for the purposes of this tutorial we will share them\n",
    "MONGODB_PASSWORD = \"Uzn4vHDLuARrpZcR\" # NOTE: insert-only user password\n",
    "\n",
    "# Connection string obtained via MongoDB Atlas \"Connect\" button (NOTE: insert only username)\n",
    "blinded_connection_string = \"mongodb+srv://test-user-insert-only:<password>@test-cluster.c5jgpni.mongodb.net/?retryWrites=true&w=majority\"\n",
    "\n",
    "# Replace <password> with the MongoDB password (where again, the connection\n",
    "# string and password would normally be kept private)\n",
    "connection_string = blinded_connection_string.replace(\"<password>\", MONGODB_PASSWORD)\n",
    "\n",
    "# Create a new client and connect to the server\n",
    "client = MongoClient(connection_string)\n",
    "\n",
    "# Send a ping to confirm a successful connection\n",
    "try:\n",
    "    client.admin.command('ping')\n",
    "    print(\"Pinged your deployment. You successfully connected to MongoDB!\")\n",
    "except Exception as e:\n",
    "    print(e)"
   ]
  },
  {
   "cell_type": "markdown",
   "metadata": {
    "id": "pt9otEX-MqaR"
   },
   "source": [
    "Since we're using a different collection (`write-to-me` instead of `read-from-me`) and a user with only insert permissions to `write-to-me` (again, to avoid misuse for this public demo), we'll define our `write-tome` collection:"
   ]
  },
  {
   "cell_type": "code",
   "execution_count": 12,
   "metadata": {
    "id": "dmn86UrANcdK"
   },
   "outputs": [],
   "source": [
    "database_name = \"test-db\"\n",
    "collection_name = \"write-to-me\"\n",
    "\n",
    "db = client[database_name]\n",
    "collection = db[collection_name]"
   ]
  },
  {
   "cell_type": "markdown",
   "metadata": {
    "id": "SL5KLp7PKWIZ"
   },
   "source": [
    "To upload a single document, you can use the `insert_one` method from the `collection` object defined above:\n"
   ]
  },
  {
   "cell_type": "code",
   "execution_count": 13,
   "metadata": {
    "colab": {
     "base_uri": "https://localhost:8080/"
    },
    "id": "NB_XXdveJ5PY",
    "outputId": "82b70b1a-a6cb-4c69-f537-8d7803fa780a"
   },
   "outputs": [
    {
     "name": "stdout",
     "output_type": "stream",
     "text": [
      "InsertOneResult(ObjectId('67bdc2c3a1a1fb81d118b0c8'), acknowledged=True)\n"
     ]
    }
   ],
   "source": [
    "# Define the document to be inserted\n",
    "document = {\"course_id\": \"fluffy-rabbit\"}\n",
    "\n",
    "# Insert the document into the collection\n",
    "id = collection.insert_one(document)\n",
    "\n",
    "print(id)"
   ]
  },
  {
   "cell_type": "markdown",
   "metadata": {
    "id": "_DFOhza-J0PW"
   },
   "source": [
    "\n",
    "To upload multiple documents, you can use the `insert_many` method with a list of documents:\n"
   ]
  },
  {
   "cell_type": "code",
   "execution_count": 14,
   "metadata": {
    "colab": {
     "base_uri": "https://localhost:8080/"
    },
    "id": "M2AYwsZMJ7iN",
    "outputId": "b4b7a4e5-5243-4c40-9bec-4e13d89ecdbf"
   },
   "outputs": [
    {
     "name": "stdout",
     "output_type": "stream",
     "text": [
      "InsertManyResult([ObjectId('67bdc2c5a1a1fb81d118b0c9'), ObjectId('67bdc2c5a1a1fb81d118b0ca'), ObjectId('67bdc2c5a1a1fb81d118b0cb')], acknowledged=True)\n"
     ]
    }
   ],
   "source": [
    "# Define the documents to be inserted\n",
    "documents = [\n",
    "    {\"course_id\": \"silly-emu\"},\n",
    "    {\"course_id\": \"daring-fox\"},\n",
    "    {\"course_id\": \"feeble-zebra\"}\n",
    "]\n",
    "\n",
    "# Insert the documents into the collection\n",
    "ids = collection.insert_many(documents)\n",
    "\n",
    "print(ids)"
   ]
  },
  {
   "cell_type": "markdown",
   "metadata": {},
   "source": [
    "Once again, you can close the connection to MongoDB."
   ]
  },
  {
   "cell_type": "code",
   "execution_count": 15,
   "metadata": {},
   "outputs": [],
   "source": [
    "client.close()"
   ]
  },
  {
   "cell_type": "markdown",
   "metadata": {
    "id": "2sH_dzuLJ2QW"
   },
   "source": [
    "\n",
    "These concepts are covered at https://pymongo.readthedocs.io/en/stable/tutorial.html."
   ]
  },
  {
   "cell_type": "markdown",
   "metadata": {
    "id": "-9Uc86QfI2as"
   },
   "source": [
    "## Additional Resources\n",
    "\n",
    "- [PyMongo Project-based Tutorial using FastAPI](https://www.mongodb.com/languages/python/pymongo-tutorial)\n",
    "- [PyMongo Docs Tutorial](https://pymongo.readthedocs.io/en/stable/tutorial.html)"
   ]
  },
  {
   "cell_type": "markdown",
   "metadata": {
    "id": "u89NC5MCI2as"
   },
   "source": [
    "Once you've successfully run this notebook, return to the [data logging notebook](./1.5-data-logging.ipynb)."
   ]
  }
 ],
 "metadata": {
  "colab": {
   "provenance": []
  },
  "kernelspec": {
   "display_name": "ac-microcourses",
   "language": "python",
   "name": "python3"
  },
  "language_info": {
   "codemirror_mode": {
    "name": "ipython",
    "version": 3
   },
   "file_extension": ".py",
   "mimetype": "text/x-python",
   "name": "python",
   "nbconvert_exporter": "python",
   "pygments_lexer": "ipython3",
   "version": "3.12.4"
  }
 },
 "nbformat": 4,
 "nbformat_minor": 0
}
