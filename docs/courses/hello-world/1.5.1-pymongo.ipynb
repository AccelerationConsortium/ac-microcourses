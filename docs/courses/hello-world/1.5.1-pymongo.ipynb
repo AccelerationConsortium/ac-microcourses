{
 "cells": [
  {
   "cell_type": "markdown",
   "metadata": {},
   "source": [
    "# Reading Data from MongoDB\n",
    "\n",
    "[![Open In Colab](https://colab.research.google.com/assets/colab-badge.svg)](https://colab.research.google.com/github/AccelerationConsortium/ac-microcourses/blob/main/docs/courses/hello-world/1.5.1-pymongo.ipynb)\n",
    "\n",
    "Within [the data logging notebook](./1.5-data-logging.ipynb), you learned how to write data to a MongoDB database directly from a microcontroller using MongoDB's data API. In this notebook, you will learn how to read data from a MongoDB database using the official MongoDB Python driver: [PyMongo](https://pymongo.readthedocs.io/en/stable/). Note that you will read data from a separate database collection than the one you wrote to in the previous notebook. While it would be more instructive to read the same data that you wrote, to avoid potential misuse, users only have write access to the database collection from the previous notebook. Likewise, in this notebook, users only have read access to a separate database collection with a fixed set of data."
   ]
  },
  {
   "cell_type": "code",
   "execution_count": 1,
   "metadata": {},
   "outputs": [],
   "source": [
    "# only install if we are running in colab\n",
    "import sys\n",
    "IN_COLAB = 'google.colab' in sys.modules\n",
    "if IN_COLAB:\n",
    "    %pip install pymongo pandas"
   ]
  },
  {
   "cell_type": "markdown",
   "metadata": {},
   "source": [
    "First, instantiate the PyMongo client and connect to the database."
   ]
  },
  {
   "cell_type": "code",
   "execution_count": 2,
   "metadata": {},
   "outputs": [
    {
     "name": "stdout",
     "output_type": "stream",
     "text": [
      "Pinged your deployment. You successfully connected to MongoDB!\n"
     ]
    }
   ],
   "source": [
    "from pymongo.mongo_client import MongoClient\n",
    "\n",
    "# normally, the MongoDB credentials would be kept private\n",
    "# but for the purposes of this tutorial we will share them\n",
    "MONGODB_PASSWORD = \"HGzZNsQ3vBLKrXXF\"\n",
    "\n",
    "# Connection string obtained via MongoDB Atlas \"Connect\" button\n",
    "blinded_connection_string = \"mongodb+srv://test-user-find-only:<password>@test-cluster.c5jgpni.mongodb.net/?retryWrites=true&w=majority\"\n",
    "\n",
    "# Replace <password> with the MongoDB password (where again, the connection\n",
    "# string and password would normally be kept private)\n",
    "connection_string = blinded_connection_string.replace(\"<password>\", MONGODB_PASSWORD)\n",
    "\n",
    "# Create a new client and connect to the server\n",
    "client = MongoClient(connection_string)\n",
    "\n",
    "# Send a ping to confirm a successful connection\n",
    "try:\n",
    "    client.admin.command('ping')\n",
    "    print(\"Pinged your deployment. You successfully connected to MongoDB!\")\n",
    "except Exception as e:\n",
    "    print(e)"
   ]
  },
  {
   "cell_type": "markdown",
   "metadata": {},
   "source": [
    "Next, read all entries from the collection. In this case, there are only three pre-existing entries in the collection (uploaded by the course developers). This will not include your course ID for reasons listed above."
   ]
  },
  {
   "cell_type": "code",
   "execution_count": 3,
   "metadata": {},
   "outputs": [
    {
     "name": "stdout",
     "output_type": "stream",
     "text": [
      "[{'_id': ObjectId('65962c0458f0b76b37484b82'), 'course_id': 'happy-panda'}, {'_id': ObjectId('65962c3758f0b76b37484b83'), 'course_id': 'amused-zebra'}, {'_id': ObjectId('65962c4958f0b76b37484b84'), 'course_id': 'sorrowful-hippo'}]\n"
     ]
    }
   ],
   "source": [
    "database_name = \"test-db\"\n",
    "collection_name = \"read-from-me\"\n",
    "\n",
    "db = client[database_name]\n",
    "collection = db[collection_name]\n",
    "\n",
    "# get all results\n",
    "results = list(collection.find({}))\n",
    "\n",
    "print(results)"
   ]
  },
  {
   "cell_type": "markdown",
   "metadata": {},
   "source": [
    "Create a pandas DataFrame from the collection entries."
   ]
  },
  {
   "cell_type": "code",
   "execution_count": 4,
   "metadata": {},
   "outputs": [
    {
     "data": {
      "text/html": [
       "<div>\n",
       "<style scoped>\n",
       "    .dataframe tbody tr th:only-of-type {\n",
       "        vertical-align: middle;\n",
       "    }\n",
       "\n",
       "    .dataframe tbody tr th {\n",
       "        vertical-align: top;\n",
       "    }\n",
       "\n",
       "    .dataframe thead th {\n",
       "        text-align: right;\n",
       "    }\n",
       "</style>\n",
       "<table border=\"1\" class=\"dataframe\">\n",
       "  <thead>\n",
       "    <tr style=\"text-align: right;\">\n",
       "      <th></th>\n",
       "      <th>course_id</th>\n",
       "    </tr>\n",
       "    <tr>\n",
       "      <th>_id</th>\n",
       "      <th></th>\n",
       "    </tr>\n",
       "  </thead>\n",
       "  <tbody>\n",
       "    <tr>\n",
       "      <th>65962c0458f0b76b37484b82</th>\n",
       "      <td>happy-panda</td>\n",
       "    </tr>\n",
       "    <tr>\n",
       "      <th>65962c3758f0b76b37484b83</th>\n",
       "      <td>amused-zebra</td>\n",
       "    </tr>\n",
       "    <tr>\n",
       "      <th>65962c4958f0b76b37484b84</th>\n",
       "      <td>sorrowful-hippo</td>\n",
       "    </tr>\n",
       "  </tbody>\n",
       "</table>\n",
       "</div>"
      ],
      "text/plain": [
       "                                course_id\n",
       "_id                                      \n",
       "65962c0458f0b76b37484b82      happy-panda\n",
       "65962c3758f0b76b37484b83     amused-zebra\n",
       "65962c4958f0b76b37484b84  sorrowful-hippo"
      ]
     },
     "execution_count": 4,
     "metadata": {},
     "output_type": "execute_result"
    }
   ],
   "source": [
    "# NOTE: your course ID will not appear in the results\n",
    "import pandas as pd\n",
    "df = pd.DataFrame(results).set_index(\"_id\")\n",
    "df"
   ]
  },
  {
   "cell_type": "markdown",
   "metadata": {},
   "source": [
    "Finally, export the DataFrame to a CSV file and print the CSV file contents."
   ]
  },
  {
   "cell_type": "code",
   "execution_count": 5,
   "metadata": {},
   "outputs": [
    {
     "name": "stdout",
     "output_type": "stream",
     "text": [
      "_id,course_id\n",
      "65962c0458f0b76b37484b82,happy-panda\n",
      "65962c3758f0b76b37484b83,amused-zebra\n",
      "65962c4958f0b76b37484b84,sorrowful-hippo\n",
      "\n"
     ]
    }
   ],
   "source": [
    "df.to_csv(\"results.csv\")\n",
    "\n",
    "with open('results.csv', 'r') as file:\n",
    "    print(file.read())"
   ]
  },
  {
   "cell_type": "markdown",
   "metadata": {},
   "source": [
    "## Aside: Uploading data using PyMongo\n",
    "\n",
    "In this notebook, we described how to read data via the PyMongo driver. In the [the data logging notebook](./1.5-data-logging.ipynb), we uploaded data using the Data API since we were using a microcontroller. However, when PyMongo is available, it is more straightforward and efficient to use PyMongo. To upload a single document, you can use the `insert_one` method from the `collection` object defined above:\n",
    "```python\n",
    "# Define the document to be inserted\n",
    "document = {\"course_id\": \"fluffy-rabbit\"}\n",
    "\n",
    "# Insert the document into the collection\n",
    "id = collection.insert_one(document)\n",
    "```\n",
    "\n",
    "To upload multiple documents, you can use the `insert_many` method with a list of documents:\n",
    "\n",
    "```python\n",
    "# Define the documents to be inserted\n",
    "documents = [\n",
    "    {\"course_id\": \"course1\"},\n",
    "    {\"course_id\": \"course2\"},\n",
    "    {\"course_id\": \"course3\"}\n",
    "]\n",
    "\n",
    "# Insert the documents into the collection\n",
    "ids = collection.insert_many(documents)\n",
    "```\n",
    "\n",
    "These concepts are covered at https://pymongo.readthedocs.io/en/stable/tutorial.html. This code is formatted as a text cell rather than a code cell since the database credentials from this notebook only allow for read access as described at the beginning (i.e., they would throw an error in this specific notebook)."
   ]
  },
  {
   "cell_type": "markdown",
   "metadata": {},
   "source": [
    "Now, you can close the connection to MongoDB."
   ]
  },
  {
   "cell_type": "code",
   "execution_count": 6,
   "metadata": {},
   "outputs": [],
   "source": [
    "client.close()"
   ]
  },
  {
   "cell_type": "markdown",
   "metadata": {},
   "source": [
    "## Additional Resources\n",
    "\n",
    "- [PyMongo Project-based Tutorial using FastAPI](https://www.mongodb.com/languages/python/pymongo-tutorial)\n",
    "- [PyMongo Docs Tutorial](https://pymongo.readthedocs.io/en/stable/tutorial.html)"
   ]
  },
  {
   "cell_type": "markdown",
   "metadata": {},
   "source": [
    "Once you've successfully run this notebook, return to the [data logging notebook](./1.5-data-logging.ipynb)."
   ]
  }
 ],
 "metadata": {
  "kernelspec": {
   "display_name": "ac-microcourses",
   "language": "python",
   "name": "python3"
  },
  "language_info": {
   "codemirror_mode": {
    "name": "ipython",
    "version": 3
   },
   "file_extension": ".py",
   "mimetype": "text/x-python",
   "name": "python",
   "nbconvert_exporter": "python",
   "pygments_lexer": "ipython3",
   "version": "3.11.5"
  }
 },
 "nbformat": 4,
 "nbformat_minor": 2
}
