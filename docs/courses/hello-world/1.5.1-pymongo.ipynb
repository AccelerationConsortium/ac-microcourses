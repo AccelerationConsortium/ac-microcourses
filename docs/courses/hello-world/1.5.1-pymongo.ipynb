{
 "cells": [
  {
   "cell_type": "markdown",
   "metadata": {},
   "source": [
    "# Reading Data from MongoDB\n",
    "\n",
    "Within [the data logging notebook](./1.5-data-logging.ipynb), you learned how to write data to a MongoDB database directly from a microcontroller using MongoDB's data API. In this notebook, you will learn how to read data from a MongoDB database using the official MongoDB Python driver: PyMongo. You will read from a separate database collection than the one you wrote to in the previous notebook. "
   ]
  },
  {
   "cell_type": "code",
   "execution_count": null,
   "metadata": {},
   "outputs": [],
   "source": []
  }
 ],
 "metadata": {
  "language_info": {
   "name": "python"
  }
 },
 "nbformat": 4,
 "nbformat_minor": 2
}
