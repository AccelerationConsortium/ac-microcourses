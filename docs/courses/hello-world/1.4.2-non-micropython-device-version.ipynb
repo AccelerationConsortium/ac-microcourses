{
  "nbformat": 4,
  "nbformat_minor": 0,
  "metadata": {
    "colab": {
      "provenance": []
    },
    "kernelspec": {
      "name": "python3",
      "display_name": "Python 3"
    },
    "language_info": {
      "name": "python"
    }
  },
  "cells": [
    {
      "cell_type": "markdown",
      "source": [
        "# 1.4.2 Non-MicroPython Device Version"
      ],
      "metadata": {
        "id": "JSeeBF7SvENI"
      }
    },
    {
      "cell_type": "markdown",
      "source": [
        "This notebook serves as a replacement of [hardware/software communication notebook](./1.4-hardware-software-communication) if you were running on a device that supports Python (e.g., Raspberry Pi 5, Linux, Windows, MacOS, etc.) where you can install the `paho-mqtt` Python library (as opposed to using the `mqtt_as` MicroPython library on a Pico W). This notebook can also be used directly with [the companion notebook](./1.4.1-onboard-led-temp.ipynb). Note that these examples do not consider the possibility of having multiple devices or sending simultaneous requests, for simplicity. However, in [`self-driving-lab-demo`](https://self-driving-lab-demo.readthedocs.io/en/latest/), this is distinguished by passing an `experiment_id` back and forth, which is incorporated into the module assignment."
      ],
      "metadata": {
        "id": "oJIRtUZTuDQZ"
      }
    },
    {
      "cell_type": "code",
      "source": [
        "# only install paho-mqtt if we are running in colab\n",
        "# matplotlib only for visualization\n",
        "import sys\n",
        "IN_COLAB = 'google.colab' in sys.modules\n",
        "if IN_COLAB:\n",
        "    %pip install paho-mqtt"
      ],
      "metadata": {
        "colab": {
          "base_uri": "https://localhost:8080/"
        },
        "id": "2KUQnmy3nDtF",
        "outputId": "b8ae536a-27d3-48c7-e2a1-abfb99188b29"
      },
      "execution_count": 5,
      "outputs": [
        {
          "output_type": "stream",
          "name": "stdout",
          "text": [
            "Requirement already satisfied: paho-mqtt in /usr/local/lib/python3.11/dist-packages (2.1.0)\n"
          ]
        }
      ]
    },
    {
      "cell_type": "code",
      "execution_count": 10,
      "metadata": {
        "colab": {
          "base_uri": "https://localhost:8080/"
        },
        "id": "xPOxpW7JmuMl",
        "outputId": "4de425bb-b947-44b0-cb4e-ec1726beacee"
      },
      "outputs": [
        {
          "output_type": "stream",
          "name": "stdout",
          "text": [
            "Setting up MQTT Client\n",
            "Connected to MQTT Client\n",
            "Waiting for commands...\n",
            "Running... Elapsed: 0s\n",
            "Received command on <your_id_here>/onboard_led: abc\n",
            "Unknown command: abc\n",
            "LED state: False\n",
            "Received command on <your_id_here>/onboard_temp: 24.9\n",
            "Received command on <your_id_here>/onboard_led: abc\n",
            "Unknown command: abc\n",
            "LED state: False\n",
            "Received command on <your_id_here>/onboard_temp: 24.4\n",
            "Received command on <your_id_here>/onboard_led: abc\n",
            "Unknown command: abc\n",
            "LED state: False\n",
            "Running... Elapsed: 5s\n",
            "Received command on <your_id_here>/onboard_temp: 26.7\n",
            "Received command on <your_id_here>/onboard_led: abc\n",
            "Unknown command: abc\n",
            "LED state: False\n",
            "Received command on <your_id_here>/onboard_temp: 26.7\n",
            "Received command on <your_id_here>/onboard_led: abc\n",
            "Unknown command: abc\n",
            "LED state: False\n",
            "Received command on <your_id_here>/onboard_temp: 26.4\n",
            "Interrupted by user.\n"
          ]
        }
      ],
      "source": [
        "import paho.mqtt.client as mqtt\n",
        "import ssl\n",
        "import time\n",
        "import random\n",
        "import json\n",
        "\n",
        "# Replace with your actual HiveMQ Cloud credentials and device ID\n",
        "# (or import from your own my_secrets.py)\n",
        "HIVEMQ_HOST = \"248cc294c37642359297f75b7b023374.s2.eu.hivemq.cloud\"\n",
        "HIVEMQ_USERNAME = \"sgbaird\"\n",
        "HIVEMQ_PASSWORD = \"D.Pq5gYtejYbU#L\"\n",
        "COURSE_ID = \"<your_id_here>\"  # Make sure this matches your Colab script!\n",
        "\n",
        "command_topic = f\"{COURSE_ID}/onboard_led\"\n",
        "sensor_data_topic = f\"{COURSE_ID}/onboard_temp\"\n",
        "\n",
        "# Simulate LED on/off\n",
        "led_state = False # we will set this as a global var later, to emulate a hardware state\n",
        "\n",
        "\n",
        "def read_temperature():\n",
        "    # for demonstration\n",
        "    return round(25 + random.uniform(-2.0, 2.0), 1)\n",
        "\n",
        "# The callback for when the client receives a CONNACK response from the server.\n",
        "def on_connect(client, userdata, flags, rc, properties=None):\n",
        "    if rc == 0:\n",
        "        # Subscribing in on_connect() means that if we lose the connection and\n",
        "        # reconnect then subscriptions will be renewed.\n",
        "        client.subscribe(command_topic, qos=1)\n",
        "    else:\n",
        "        print(f\"Failed to connect. Return code={rc}\")\n",
        "\n",
        "def on_message(client, userdata, msg):\n",
        "    # we permit a global var for sake of demo'ing pretend hardware\n",
        "    # normally the \"state\" would be kept by the device itself (hence one would remove the following line)\n",
        "    global led_state\n",
        "    try:\n",
        "        payload_str = msg.payload.decode().strip().lower()\n",
        "        print(f\"Received command on {msg.topic}: {payload_str}\")\n",
        "\n",
        "        if msg.topic == command_topic:\n",
        "            if msg == \"on\":\n",
        "                led_state = True\n",
        "            elif msg == \"off\":\n",
        "                led_state = False\n",
        "            elif msg == \"toggle\":\n",
        "                led_state = not led_state\n",
        "            else:\n",
        "                print(f\"Unknown command: {payload_str}\")\n",
        "            print(f\"LED state: {led_state}\")\n",
        "            temperature = read_temperature()\n",
        "            payload = f\"{temperature}\"\n",
        "            client.publish(sensor_data_topic, payload, qos=1)\n",
        "    except Exception as exc:\n",
        "        print(\"Exception in on_message:\", exc)\n",
        "\n",
        "print(\"Setting up MQTT Client\")\n",
        "client = mqtt.Client(mqtt.CallbackAPIVersion.VERSION2, protocol=mqtt.MQTTv5)\n",
        "\n",
        "# enable TLS for secure connection\n",
        "client.tls_set(tls_version=mqtt.ssl.PROTOCOL_TLS_CLIENT)\n",
        "# set username and password\n",
        "client.username_pw_set(HIVEMQ_USERNAME, HIVEMQ_PASSWORD)\n",
        "# connect to HiveMQ Cloud on port 8883\n",
        "port = 8883\n",
        "client.connect(HIVEMQ_HOST, port)\n",
        "print(\"Connected to MQTT Client\")\n",
        "client.subscribe(sensor_data_topic, qos=2)\n",
        "\n",
        "# Attach callbacks\n",
        "client.on_connect = on_connect\n",
        "client.on_message = on_message\n",
        "\n",
        "# Start the MQTT network loop in a separate thread\n",
        "client.loop_start()\n",
        "print(\"Waiting for commands...\")\n",
        "\n",
        "start_time = time.time()\n",
        "try:\n",
        "    # Keep the script running to handle incoming messages\n",
        "    while True:\n",
        "        elapsed = round(time.time() - start_time)\n",
        "        print(f\"Running... Elapsed: {elapsed}s\")\n",
        "        time.sleep(5)\n",
        "except KeyboardInterrupt:\n",
        "    print(\"Interrupted by user.\")\n",
        "finally:\n",
        "    # Gracefully stop\n",
        "    client.loop_stop()\n",
        "    client.disconnect()\n"
      ]
    }
  ]
}