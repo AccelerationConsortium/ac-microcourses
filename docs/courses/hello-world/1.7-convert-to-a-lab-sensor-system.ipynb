{
 "cells": [
  {
   "cell_type": "markdown",
   "metadata": {},
   "source": [
    "# 7. Convert to a Lab Sensor System\n",
    "\n",
    "<img src=\"../../_static/lab-sensor-system.png\" width=35%>\n",
    "\n",
    "*A schematic diagram of a lab sensor system that tracks and stores laboratory environmental data.*\n",
    "\n",
    "https://www.hivemq.com/article/iot-reading-sensor-data-raspberry-pi-pico-w-micropython-mqtt-node-red/"
   ]
  },
  {
   "cell_type": "code",
   "execution_count": null,
   "metadata": {},
   "outputs": [],
   "source": []
  }
 ],
 "metadata": {
  "language_info": {
   "name": "python"
  }
 },
 "nbformat": 4,
 "nbformat_minor": 2
}
