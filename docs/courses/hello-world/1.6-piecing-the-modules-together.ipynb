{
 "cells": [
  {
   "cell_type": "markdown",
   "metadata": {},
   "source": [
    "# 6. Connecting the Pieces\n",
    "\n",
    "<img src=\"../../_static/connecting-pieces.png\" width=50%>\n",
    "\n",
    "*Workflow diagram showing how core pieces connect together in the \"Hello World\" light-mixing demo.*"
   ]
  },
  {
   "cell_type": "code",
   "execution_count": null,
   "metadata": {},
   "outputs": [],
   "source": []
  }
 ],
 "metadata": {
  "language_info": {
   "name": "python"
  }
 },
 "nbformat": 4,
 "nbformat_minor": 2
}
