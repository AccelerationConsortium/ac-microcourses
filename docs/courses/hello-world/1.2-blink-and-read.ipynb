{
 "cells": [
  {
   "cell_type": "markdown",
   "metadata": {},
   "source": [
    "# 2. Blink and Read\n",
    "\n",
    "Learn how to write MicroPython scripts and use a Raspberry Pico W microcontroller to send commands to an RGB LED and read data from a light sensor.\n",
    "\n",
    "## NeoPixels\n",
    "\n",
    "✅ Read the MicroPython documentation for [Controlling NeoPixels](https://docs.micropython.org/en/latest/esp8266/tutorial/neopixel.html)\n",
    "\n",
    "## AS7341 Light Sensor\n",
    "\n",
    "✅ Read the overview page of the [AS7341 Guide](https://learn.adafruit.com/adafruit-as7341-10-channel-light-color-sensor-breakout/overview) and the [Pinouts page](https://learn.adafruit.com/adafruit-as7341-10-channel-light-color-sensor-breakout/pinouts)\n",
    "\n",
    "✅ Browse the [AS7341 MicroPython Module](https://github.com/sparks-baird/self-driving-lab-demo/blob/7b9a2a9bc4a5079b03907ffd5c758094217d3872/src/public_mqtt_sdl_demo/lib/as7341_sensor.py)\n",
    "\n",
    "## Definitions\n",
    "\n",
    "**GPIO (General-Purpose Input/Output) Pins**: GPIO refers to the pins on a microcontroller or single-board computer that can be configured as either inputs or outputs to interact with external hardware. These pins can be used to read digital signals (input) or send digital signals (output). GPIO pins are versatile and can be used for various tasks, such as reading sensors, controlling LEDs, or interfacing with other digital devices.\n",
    "\n",
    "**I2C (Inter-Integrated Circuit)**: I2C is a communication protocol used for connecting and exchanging data between electronic components on a circuit board or between different devices. It stands for Inter-Integrated Circuit and allows multiple digital devices to communicate with each other using a common set of wires, typically two (SDA for data and SCL for clock), making it useful for connecting sensors, displays, and other peripherals in a simple and standardized way.\n",
    "\n",
    "**RGB Color Values**: In the context of RGB color representation, 0 to 255 refers to the range of values for each of the three color channels: Red (R), Green (G), and Blue (B). Each channel can have a value between 0 (no intensity) and 255 (maximum intensity), allowing for a total of 256 different levels of intensity for each color. By combining different levels of intensity for these three channels, you can create a wide range of colors by specifying how much red, green, and blue are mixed together. For example, RGB(255, 0, 0) represents full red, RGB(0, 255, 0) represents full green, and RGB(0, 0, 255) represents full blue. Mixing these channels in different proportions produces various colors in the RGB color space.\n",
    "\n",
    "**Spectrophotometer**: A spectrophotometer is a scientific instrument used to measure the intensity of light at different wavelengths in a sample. It works by passing a beam of light through the sample and measuring how much light is absorbed or transmitted. Spectrophotometers are commonly used in chemistry, biology, and physics to analyze the concentration of substances in a solution, study the properties of materials, and determine the color or composition of samples by measuring their absorption or emission spectra.\n",
    "\n",
    "## Additional Resources\n",
    "- [What is Stemma QT?](https://youtu.be/6GXRRuFuFy0)\n",
    "- [AS7341 MicroPython Library](https://gitlab.com/robhamerling/micropython-as7341)\n",
    "- [Maker Pi Pico GitHub Repository](https://github.com/CytronTechnologies/MAKER-PI-PICO)\n",
    "\n",
    "##\n",
    "\n",
    "That's it! You've completed the tutorial 🎉. Next, let's do a knowledge check."
   ]
  }
 ],
 "metadata": {
  "language_info": {
   "name": "python"
  }
 },
 "nbformat": 4,
 "nbformat_minor": 2
}
