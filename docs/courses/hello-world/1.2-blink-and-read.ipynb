{
 "cells": [
  {
   "cell_type": "markdown",
   "metadata": {},
   "source": [
    "# 2. Blink and Read\n",
    "\n",
    "https://github.com/sparks-baird/self-driving-lab-demo/blob/d5dace08fc64fb9759fb2e0277c5d0e2d158da03/src/public_mqtt_sdl_demo/scripts/as7341_basic.py\n",
    "\n",
    "https://github.com/sparks-baird/self-driving-lab-demo/blob/292b0e857598a7fcc3eed2db8d35c757223351ba/src/public_mqtt_sdl_demo/scripts/neopixel_basic.py\n",
    "\n"
   ]
  },
  {
   "cell_type": "code",
   "execution_count": null,
   "metadata": {},
   "outputs": [],
   "source": [
    "from time import sleep\n",
    "\n",
    "from machine import Pin\n",
    "from neopixel import NeoPixel\n",
    "\n",
    "pixels = NeoPixel(Pin(28), 1)  # 1 pixel on Pin 28\n",
    "\n",
    "pixels[0] = (50, 50, 50)\n",
    "pixels.write()\n",
    "\n",
    "sleep(2.0)\n",
    "\n",
    "pixels[0] = (0, 0, 0)\n",
    "pixels.write()"
   ]
  },
  {
   "cell_type": "code",
   "execution_count": null,
   "metadata": {},
   "outputs": [],
   "source": [
    "from as7341_sensor import Sensor\n",
    "\n",
    "sensor = Sensor()\n",
    "\n",
    "atime = 100\n",
    "astep = 999\n",
    "gain = 128\n",
    "\n",
    "sensor._atime = atime\n",
    "sensor._astep = astep\n",
    "sensor._gain = gain\n",
    "\n",
    "assert 0 <= atime <= 255, f\"Invalid atime: {atime} (must be between 0 and 255)\"\n",
    "assert 0 <= astep <= 65536, f\"Invalid astep: {astep} (must be between 0 and 65536)\"\n",
    "assert 0.5 <= gain <= 512, f\"Invalid gain: {gain} (must be between 0.5 and 512)\"\n",
    "\n",
    "sensor_data = sensor.all_channels\n",
    "\n",
    "CHANNEL_NAMES = [\n",
    "    \"ch410\",\n",
    "    \"ch440\",\n",
    "    \"ch470\",\n",
    "    \"ch510\",\n",
    "    \"ch550\",\n",
    "    \"ch583\",\n",
    "    \"ch620\",\n",
    "    \"ch670\",\n",
    "]\n",
    "\n",
    "sensor_data = {ch: datum for ch, datum in zip(CHANNEL_NAMES, sensor_data)}\n",
    "\n",
    "print(sensor_data)\n"
   ]
  }
 ],
 "metadata": {
  "language_info": {
   "name": "python"
  }
 },
 "nbformat": 4,
 "nbformat_minor": 2
}
