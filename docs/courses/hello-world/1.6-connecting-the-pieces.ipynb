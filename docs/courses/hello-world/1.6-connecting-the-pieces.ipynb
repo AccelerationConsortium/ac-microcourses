{
 "cells": [
  {
   "cell_type": "markdown",
   "metadata": {},
   "source": [
    "# 6. Connecting the Pieces\n",
    "\n",
    "You've made it to the final module of this microcourse! Well done 🥳. In this module, you will connect the pieces from previous modules into the \"Hello World\" of self-driving labs, from microcontroller programming and Bayesian optimization to hardware-software communication and data logging.\n",
    "\n",
    "<img src=\"../../_static/connecting-pieces.png\" width=80%>\n",
    "\n",
    "*Workflow diagram showing how core pieces connect together in the \"Hello World\" light-mixing demo.*\n",
    "\n",
    "✅ Review the [course overview](./overview.md) to see how this module fits into the overall course structure\n",
    "\n",
    "✅ Review the tutorials from the earlier modules. Direct links to the tutorial pages are copied here for convenience:\n",
    "\n",
    "1. [Running the demo](./1.1-running-the-demo.ipynb)\n",
    "2. [Blink and read](./1.2-blink-and-read.ipynb)\n",
    "3. [Bayesian optimization](./1.3-bayesian-optimization.ipynb)\n",
    "4. [Hardware-software communication](./1.4-hardware-software-communication.ipynb)\n",
    "5. [Data logging](1.5-data-logging.ipynb)\n",
    "\n",
    "✅ Review the knowledge checks via the main course website\n",
    "\n",
    "✅ Review your assignment repositories. For quick access, see [your ACC-HelloWorld GitHub organization repositories](https://github.com/orgs/ACC-HelloWorld/repositories).\n",
    "\n",
    "<!-- resources from earlier, specifically: -->\n",
    "\n",
    "<!-- ## Pre-built demo\n",
    "- [video tutorial](https://youtu.be/D54yfxRSY6s)\n",
    "- [🔗 DOI: 10.1016/j.xpro.2023.102329](https://doi.org/10.1016/j.xpro.2023.102329)\n",
    "- [🔗 DOI: 10.1016/j.matt.2022.11.007](https://doi.org/10.1016/j.matt.2022.11.007)\n",
    "\n",
    "## Microcontroller programming\n",
    "- [NeoPixel MicroPython documentation](https://docs.micropython.org/en/latest/esp8266/tutorial/neopixel.html)\n",
    "- [`as7341_sensor` MicroPython Module](https://github.com/sparks-baird/self-driving-lab-demo/blob/7b9a2a9bc4a5079b03907ffd5c758094217d3872/src/public_mqtt_sdl_demo/lib/as7341_sensor.py)\n",
    "\n",
    "## Bayesian Optimization\n",
    "- [Service API tutorial (Google Colab)](./1.3.1-ax-service-api.ipynb) -->"
   ]
  },
  {
   "cell_type": "markdown",
   "metadata": {},
   "source": [
    "That's it for this page 🎉. Return to the course website to check your knowledge about the role of each component and how they will integrate."
   ]
  }
 ],
 "metadata": {
  "language_info": {
   "name": "python"
  }
 },
 "nbformat": 4,
 "nbformat_minor": 2
}
