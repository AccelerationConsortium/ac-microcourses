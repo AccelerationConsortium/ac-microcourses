{
 "cells": [
  {
   "cell_type": "markdown",
   "metadata": {},
   "source": [
    "# 4.1 Onboard LED and Temperature\n",
    "\n",
    "[![Open In Colab](https://colab.research.google.com/assets/colab-badge.svg)](https://colab.research.google.com/github/AccelerationConsortium/ac-microcourses/blob/main/docs/courses/hello-world/1.4.1-onboard-led-temp.ipynb)\n",
    "\n",
    "Ensure that you've followed the instructions in the hardware/software communication notebook to set up your Pico W microcontroller. This notebook will allow you to interact with the microcontroller via the MQTT protocol. This assumes you are using the same HiveMQ microcredentials as in this notebook (`HIVEMQ_USERNAME`, `HIVEMQ_PASSWORD`, `HIVEMQ_HOST`). Feel free to swap in your own credentials if you have them, but make sure to swap them both on the microcontroller and here. You will also need to update the `COURSE_ID` with your own."
   ]
  },
  {
   "cell_type": "code",
   "execution_count": 20,
   "metadata": {},
   "outputs": [],
   "source": [
    "# only install paho-mqtt if we are running in colab\n",
    "# matplotlib only for visualization\n",
    "import sys\n",
    "IN_COLAB = 'google.colab' in sys.modules\n",
    "if IN_COLAB:\n",
    "    %pip install paho-mqtt matplotlib"
   ]
  },
  {
   "cell_type": "code",
   "execution_count": 29,
   "metadata": {},
   "outputs": [],
   "source": [
    "COURSE_ID = \"absurd-emu\"\n",
    "\n",
    "send_topic = f\"{COURSE_ID}/onboard_led\"\n",
    "receive_topic = f\"{COURSE_ID}/onboard_temp\"\n",
    "\n",
    "HIVEMQ_USERNAME = \"sgbaird\"\n",
    "HIVEMQ_PASSWORD = \"D.Pq5gYtejYbU#L\"\n",
    "HIVEMQ_HOST = \"248cc294c37642359297f75b7b023374.s2.eu.hivemq.cloud\""
   ]
  },
  {
   "cell_type": "code",
   "execution_count": 30,
   "metadata": {},
   "outputs": [],
   "source": [
    "import paho.mqtt.client as paho\n",
    "from paho import mqtt\n",
    "import json\n",
    "from queue import Queue\n",
    "\n",
    "sensor_data_queue: \"Queue[dict]\" = Queue()\n",
    "\n",
    "def get_paho_client(receive_topic, hostname, username, password=None, port=8883, tls=True):\n",
    "\n",
    "    client = paho.Client(protocol=paho.MQTTv5)  # create new instance\n",
    "\n",
    "    def on_message(client, userdata, msg):\n",
    "        sensor_data_queue.put(json.loads(msg.payload))\n",
    "\n",
    "    # The callback for when the client receives a CONNACK response from the server.\n",
    "    def on_connect(client, userdata, flags, rc, properties=None):\n",
    "        if rc != 0:\n",
    "            print(\"Connected with result code \" + str(rc))\n",
    "        # Subscribing in on_connect() means that if we lose the connection and\n",
    "        # reconnect then subscriptions will be renewed.\n",
    "        client.subscribe(receive_topic, qos=1)\n",
    "\n",
    "    client.on_connect = on_connect\n",
    "    client.on_message = on_message\n",
    "\n",
    "    # enable TLS for secure connection\n",
    "    if tls:\n",
    "        client.tls_set(tls_version=mqtt.client.ssl.PROTOCOL_TLS)\n",
    "    # set username and password\n",
    "    client.username_pw_set(username, password)\n",
    "    # connect to HiveMQ Cloud on port 8883 (default for MQTT)\n",
    "    client.connect(hostname, port)\n",
    "    client.subscribe(receive_topic, qos=1)\n",
    "\n",
    "    return client\n",
    "\n",
    "\n",
    "def send_and_receive(client, send_topic, msg, queue_timeout=60):\n",
    "    client.publish(send_topic, msg, qos=2)\n",
    "\n",
    "    client.loop_start()\n",
    "    while True:\n",
    "        sensor_data = sensor_data_queue.get(True, queue_timeout)\n",
    "        client.loop_stop()\n",
    "        return sensor_data"
   ]
  },
  {
   "cell_type": "code",
   "execution_count": 31,
   "metadata": {},
   "outputs": [],
   "source": [
    "client = get_paho_client(\n",
    "    receive_topic, HIVEMQ_HOST, HIVEMQ_USERNAME, password=HIVEMQ_PASSWORD\n",
    ")"
   ]
  },
  {
   "cell_type": "markdown",
   "metadata": {},
   "source": [
    "Now, send a command to toggle the onboard LED on the Pico W and read the temperature from the onboard sensor using the `send_and_receive` function."
   ]
  },
  {
   "cell_type": "code",
   "execution_count": 32,
   "metadata": {},
   "outputs": [
    {
     "name": "stdout",
     "output_type": "stream",
     "text": [
      "23.3\n"
     ]
    }
   ],
   "source": [
    "onboard_temp = send_and_receive(\n",
    "    client, send_topic, \"toggle\", queue_timeout=30\n",
    ")\n",
    "print(onboard_temp)"
   ]
  },
  {
   "cell_type": "markdown",
   "metadata": {},
   "source": [
    "Now, run the following cell, which puts a small delay between iterative calls to the `send_and_receive` function. The onboard LED will be toggled at each iteration, and temperatures will be stored in the `onboard_temps` list. A running plot of the temperature as a function of time will be displayed. Feel free to stop the cell at any time.\n",
    "\n",
    "Note that the time is elapsed time, which is calculated within the notebook rather than being sent by the microcontroller. Ideally, the microcontroller would record a full timestamp in UTC time and send that with the temperature data; however, to keep the hardware/software communication simpler (i.e., just a number corresponding to the temperature in degrees Celsius), sending timestamps is omitted from the example microcontroller code."
   ]
  },
  {
   "cell_type": "code",
   "execution_count": 35,
   "metadata": {},
   "outputs": [
    {
     "data": {
      "image/png": "[encoded data removed]",
      "text/plain": [
       "<Figure size 640x480 with 1 Axes>"
      ]
     },
     "metadata": {},
     "output_type": "display_data"
    }
   ],
   "source": [
    "import matplotlib.pyplot as plt\n",
    "from time import sleep, time\n",
    "from IPython.display import clear_output\n",
    "\n",
    "onboard_temps = []\n",
    "timestamps = []\n",
    "\n",
    "start_time = time()  # Get the current time\n",
    "\n",
    "for _ in range(30):\n",
    "    onboard_temp = send_and_receive(\n",
    "        client, send_topic, \"toggle\", queue_timeout=60\n",
    "    )\n",
    "    onboard_temps.append(onboard_temp)\n",
    "    elapsed_time = time() - start_time  # Calculate the elapsed time\n",
    "    timestamps.append(elapsed_time)\n",
    "    print(onboard_temp)\n",
    "    sleep(1.0)\n",
    "\n",
    "    # Update the plot\n",
    "    clear_output(wait=True)  # Clear the current output\n",
    "    plt.plot(timestamps, onboard_temps)  # Plot the temperatures\n",
    "    plt.show()  # Show the plot"
   ]
  }
 ],
 "metadata": {
  "kernelspec": {
   "display_name": "ac-microcourses",
   "language": "python",
   "name": "python3"
  },
  "language_info": {
   "codemirror_mode": {
    "name": "ipython",
    "version": 3
   },
   "file_extension": ".py",
   "mimetype": "text/x-python",
   "name": "python",
   "nbconvert_exporter": "python",
   "pygments_lexer": "ipython3",
   "version": "3.11.5"
  }
 },
 "nbformat": 4,
 "nbformat_minor": 2
}
