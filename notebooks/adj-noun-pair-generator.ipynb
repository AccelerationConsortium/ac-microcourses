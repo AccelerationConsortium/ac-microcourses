{
 "cells": [
  {
   "cell_type": "markdown",
   "metadata": {},
   "source": [
    "# Adjective-Noun Pairs\n",
    "\n",
    "Create a list of adjective-noun pairs."
   ]
  },
  {
   "cell_type": "code",
   "execution_count": 4,
   "metadata": {},
   "outputs": [],
   "source": [
    "adj_json_path = \"../data/wonderwords/curated-adjectives.json\"\n",
    "noun_json_path = \"../data/animals/animals.json\""
   ]
  },
  {
   "cell_type": "code",
   "execution_count": 12,
   "metadata": {},
   "outputs": [
    {
     "data": {
      "text/html": [
       "<div>\n",
       "<style scoped>\n",
       "    .dataframe tbody tr th:only-of-type {\n",
       "        vertical-align: middle;\n",
       "    }\n",
       "\n",
       "    .dataframe tbody tr th {\n",
       "        vertical-align: top;\n",
       "    }\n",
       "\n",
       "    .dataframe thead th {\n",
       "        text-align: right;\n",
       "    }\n",
       "</style>\n",
       "<table border=\"1\" class=\"dataframe\">\n",
       "  <thead>\n",
       "    <tr style=\"text-align: right;\">\n",
       "      <th></th>\n",
       "      <th>pairs</th>\n",
       "    </tr>\n",
       "  </thead>\n",
       "  <tbody>\n",
       "    <tr>\n",
       "      <th>0</th>\n",
       "      <td>endurable-antelope</td>\n",
       "    </tr>\n",
       "    <tr>\n",
       "      <th>1</th>\n",
       "      <td>gaudy-falcon</td>\n",
       "    </tr>\n",
       "    <tr>\n",
       "      <th>2</th>\n",
       "      <td>abnormal-cockroach</td>\n",
       "    </tr>\n",
       "    <tr>\n",
       "      <th>3</th>\n",
       "      <td>tacky-salmon</td>\n",
       "    </tr>\n",
       "    <tr>\n",
       "      <th>4</th>\n",
       "      <td>jazzy-caribou</td>\n",
       "    </tr>\n",
       "    <tr>\n",
       "      <th>5</th>\n",
       "      <td>absent-kouprey</td>\n",
       "    </tr>\n",
       "    <tr>\n",
       "      <th>6</th>\n",
       "      <td>elated-ape</td>\n",
       "    </tr>\n",
       "    <tr>\n",
       "      <th>7</th>\n",
       "      <td>stingy-eagle</td>\n",
       "    </tr>\n",
       "    <tr>\n",
       "      <th>8</th>\n",
       "      <td>hilarious-mongoose</td>\n",
       "    </tr>\n",
       "    <tr>\n",
       "      <th>9</th>\n",
       "      <td>wealthy-antelope</td>\n",
       "    </tr>\n",
       "  </tbody>\n",
       "</table>\n",
       "</div>"
      ],
      "text/plain": [
       "                pairs\n",
       "0  endurable-antelope\n",
       "1        gaudy-falcon\n",
       "2  abnormal-cockroach\n",
       "3        tacky-salmon\n",
       "4       jazzy-caribou\n",
       "5      absent-kouprey\n",
       "6          elated-ape\n",
       "7        stingy-eagle\n",
       "8  hilarious-mongoose\n",
       "9    wealthy-antelope"
      ]
     },
     "execution_count": 12,
     "metadata": {},
     "output_type": "execute_result"
    }
   ],
   "source": [
    "import pandas as pd\n",
    "import random\n",
    "\n",
    "adjectives = pd.read_json(adj_json_path).values.flatten().tolist()\n",
    "nouns = pd.read_json(noun_json_path).values.flatten().tolist()\n",
    "\n",
    "random.seed(42)\n",
    "\n",
    "num_pairs = 500\n",
    "\n",
    "# Use list comprehension to generate the pairs\n",
    "pairs = []\n",
    "for _ in range(num_pairs):\n",
    "    adj = random.choice(adjectives).lower().replace(' ', '-')\n",
    "    noun = random.choice(nouns).lower().replace(' ', '-')\n",
    "    pairs.append(f\"{adj}-{noun}\")\n",
    "\n",
    "# Convert the list of pairs to a DataFrame\n",
    "df = pd.DataFrame(pairs, columns=[\"pairs\"])\n",
    "\n",
    "# Save the DataFrame to a csv file\n",
    "df.to_csv(\"adj-noun-pairs.csv\", index=False, header=False)\n",
    "\n",
    "df.head(10)"
   ]
  },
  {
   "cell_type": "markdown",
   "metadata": {},
   "source": [
    "## Related Resources\n",
    "\n",
    "- https://github.com/mrmaxguns/wonderwordsmodule\n",
    "- https://github.com/taikuukaits/SimpleWordlists/blob/master/Wordlist-Adjectives-All.txt\n",
    "- https://github.com/aaronbassett/Pass-phrase\n",
    "- https://gist.github.com/hugsy/8910dc78d208e40de42deb29e62df913 (english-adjectives.txt)\n",
    "- https://stackoverflow.com/questions/18834636/random-word-generator-python\n",
    "- https://github.com/vaibhavsingh97/random-word\n",
    "- https://github.com/skjorrface/animals.txt/blob/master/animals.txt\n",
    "- https://gist.github.com/atduskgreg/3cf8ef48cb0d29cf151bedad81553a54 (animals.txt)\n",
    "- https://gist.github.com/borlaym/585e2e09dd6abd9b0d0a#file-animals-json (animals.json)\n",
    "- https://en.wikipedia.org/wiki/List_of_animal_names\n",
    "- https://github.com/mrmaxguns/wonderwordsmodule/blob/master/wonderwords/assets/nounlist.txt\n",
    "- https://github.com/redacted/XKCD-password-generator/blob/master/examples/example_import.py\n",
    "- https://github.com/redacted/XKCD-password-generator"
   ]
  },
  {
   "cell_type": "markdown",
   "metadata": {},
   "source": [
    "## Code Graveyard"
   ]
  },
  {
   "cell_type": "code",
   "execution_count": null,
   "metadata": {},
   "outputs": [],
   "source": [
    "# adj_json_path = \"https://raw.githubusercontent.com/AccelerationConsortium/ac-microcourses/63ce6fa48db673174a1928cd7e37dfe780bef1a4/data/wonderwords/curated-adjectives.json\"\n",
    "# noun_json_path = \"https://raw.githubusercontent.com/AccelerationConsortium/ac-microcourses/68d997a118bf052f5f159d319e035ab557bbddf0/data/animals/animals.json\""
   ]
  }
 ],
 "metadata": {
  "kernelspec": {
   "display_name": "ac-microcourses",
   "language": "python",
   "name": "python3"
  },
  "language_info": {
   "codemirror_mode": {
    "name": "ipython",
    "version": 3
   },
   "file_extension": ".py",
   "mimetype": "text/x-python",
   "name": "python",
   "nbconvert_exporter": "python",
   "pygments_lexer": "ipython3",
   "version": "3.11.5"
  }
 },
 "nbformat": 4,
 "nbformat_minor": 2
}
